{
 "cells": [
  {
   "cell_type": "code",
   "execution_count": 6,
   "id": "5176fd3d",
   "metadata": {},
   "outputs": [],
   "source": [
    "import pandas as pd\n",
    "from matplotlib import pyplot as plt\n",
    "plt.show()"
   ]
  },
  {
   "cell_type": "code",
   "execution_count": 7,
   "id": "f6ae2ea1",
   "metadata": {},
   "outputs": [],
   "source": [
    "df= pd.read_csv(\"overseas visitor .csv\")"
   ]
  },
  {
   "cell_type": "code",
   "execution_count": 11,
   "id": "e112dbc9",
   "metadata": {},
   "outputs": [
    {
     "data": {
      "text/html": [
       "<div>\n",
       "<style scoped>\n",
       "    .dataframe tbody tr th:only-of-type {\n",
       "        vertical-align: middle;\n",
       "    }\n",
       "\n",
       "    .dataframe tbody tr th {\n",
       "        vertical-align: top;\n",
       "    }\n",
       "\n",
       "    .dataframe thead th {\n",
       "        text-align: right;\n",
       "    }\n",
       "</style>\n",
       "<table border=\"1\" class=\"dataframe\">\n",
       "  <thead>\n",
       "    <tr style=\"text-align: right;\">\n",
       "      <th></th>\n",
       "      <th>period</th>\n",
       "      <th>region</th>\n",
       "      <th>cor</th>\n",
       "      <th>hotel</th>\n",
       "      <th>friends_relatives</th>\n",
       "      <th>others</th>\n",
       "    </tr>\n",
       "  </thead>\n",
       "  <tbody>\n",
       "    <tr>\n",
       "      <th>0</th>\n",
       "      <td>2013</td>\n",
       "      <td>TOTAL</td>\n",
       "      <td>TOTAL</td>\n",
       "      <td>65</td>\n",
       "      <td>18</td>\n",
       "      <td>18</td>\n",
       "    </tr>\n",
       "    <tr>\n",
       "      <th>1</th>\n",
       "      <td>2013</td>\n",
       "      <td>SOUTHEAST ASIA</td>\n",
       "      <td>INDONESIA</td>\n",
       "      <td>58</td>\n",
       "      <td>22</td>\n",
       "      <td>20</td>\n",
       "    </tr>\n",
       "    <tr>\n",
       "      <th>2</th>\n",
       "      <td>2013</td>\n",
       "      <td>SOUTHEAST ASIA</td>\n",
       "      <td>MALAYSIA</td>\n",
       "      <td>54</td>\n",
       "      <td>31</td>\n",
       "      <td>15</td>\n",
       "    </tr>\n",
       "    <tr>\n",
       "      <th>3</th>\n",
       "      <td>2013</td>\n",
       "      <td>SOUTHEAST ASIA</td>\n",
       "      <td>PHILIPPINES</td>\n",
       "      <td>47</td>\n",
       "      <td>34</td>\n",
       "      <td>18</td>\n",
       "    </tr>\n",
       "    <tr>\n",
       "      <th>4</th>\n",
       "      <td>2013</td>\n",
       "      <td>SOUTHEAST ASIA</td>\n",
       "      <td>THAILAND</td>\n",
       "      <td>72</td>\n",
       "      <td>16</td>\n",
       "      <td>12</td>\n",
       "    </tr>\n",
       "  </tbody>\n",
       "</table>\n",
       "</div>"
      ],
      "text/plain": [
       "   period          region          cor  hotel  friends_relatives  others\n",
       "0    2013           TOTAL        TOTAL     65                 18      18\n",
       "1    2013  SOUTHEAST ASIA    INDONESIA     58                 22      20\n",
       "2    2013  SOUTHEAST ASIA     MALAYSIA     54                 31      15\n",
       "3    2013  SOUTHEAST ASIA  PHILIPPINES     47                 34      18\n",
       "4    2013  SOUTHEAST ASIA     THAILAND     72                 16      12"
      ]
     },
     "execution_count": 11,
     "metadata": {},
     "output_type": "execute_result"
    }
   ],
   "source": [
    "df.head()"
   ]
  },
  {
   "cell_type": "code",
   "execution_count": 13,
   "id": "f58bd31e",
   "metadata": {},
   "outputs": [],
   "source": [
    "Americas=data[data.hotel==\"AMERICAS\"]"
   ]
  },
  {
   "cell_type": "code",
   "execution_count": 2,
   "id": "1e17b8ca",
   "metadata": {},
   "outputs": [
    {
     "data": {
      "text/plain": [
       "0              TOTAL\n",
       "1     SOUTHEAST ASIA\n",
       "2     SOUTHEAST ASIA\n",
       "3     SOUTHEAST ASIA\n",
       "4     SOUTHEAST ASIA\n",
       "5     SOUTHEAST ASIA\n",
       "6         NORTH ASIA\n",
       "7         NORTH ASIA\n",
       "8         NORTH ASIA\n",
       "9         NORTH ASIA\n",
       "10        NORTH ASIA\n",
       "11        SOUTH ASIA\n",
       "12            EUROPE\n",
       "13            EUROPE\n",
       "14            EUROPE\n",
       "15            EUROPE\n",
       "16            EUROPE\n",
       "17            EUROPE\n",
       "18          AMERICAS\n",
       "19          AMERICAS\n",
       "20           OCEANIA\n",
       "21           OCEANIA\n",
       "22            AFRICA\n",
       "23             TOTAL\n",
       "24    SOUTHEAST ASIA\n",
       "25    SOUTHEAST ASIA\n",
       "26    SOUTHEAST ASIA\n",
       "27    SOUTHEAST ASIA\n",
       "28    SOUTHEAST ASIA\n",
       "29        NORTH ASIA\n",
       "30        NORTH ASIA\n",
       "31        NORTH ASIA\n",
       "32        NORTH ASIA\n",
       "33        NORTH ASIA\n",
       "34        SOUTH ASIA\n",
       "35            EUROPE\n",
       "36            EUROPE\n",
       "37            EUROPE\n",
       "38            EUROPE\n",
       "39            EUROPE\n",
       "40            EUROPE\n",
       "41          AMERICAS\n",
       "42          AMERICAS\n",
       "43           OCEANIA\n",
       "44           OCEANIA\n",
       "45            AFRICA\n",
       "Name: region, dtype: object"
      ]
     },
     "execution_count": 2,
     "metadata": {},
     "output_type": "execute_result"
    }
   ],
   "source": [
    "data.region"
   ]
  },
  {
   "cell_type": "code",
   "execution_count": 32,
   "id": "03ca0041",
   "metadata": {},
   "outputs": [
    {
     "data": {
      "image/png": "[encoded data removed]",
      "text/plain": [
       "<Figure size 432x288 with 1 Axes>"
      ]
     },
     "metadata": {
      "needs_background": "light"
     },
     "output_type": "display_data"
    }
   ],
   "source": [
    "import pandas as pd\n",
    "from matplotlib import pyplot as plt\n",
    "x=[1,2,3,5,6]\n",
    "y=[1,2,3,4,5]\n",
    "plt.plot(x,y)\n",
    "plt.show()"
   ]
  },
  {
   "cell_type": "code",
   "execution_count": 14,
   "id": "3c0eb927",
   "metadata": {},
   "outputs": [
    {
     "data": {
      "text/plain": [
       "0             TOTAL\n",
       "1         INDONESIA\n",
       "2          MALAYSIA\n",
       "3       PHILIPPINES\n",
       "4          THAILAND\n",
       "5           VIETNAM\n",
       "6             CHINA\n",
       "7            TAIWAN\n",
       "8         HONG KONG\n",
       "9             JAPAN\n",
       "10      SOUTH KOREA\n",
       "11            INDIA\n",
       "12           FRANCE\n",
       "13          GERMANY\n",
       "14            ITALY\n",
       "15      NETHERLANDS\n",
       "16      SWITZERLAND\n",
       "17               UK\n",
       "18           CANADA\n",
       "19              USA\n",
       "20        AUSTRALIA\n",
       "21      NEW ZEALAND\n",
       "22     SOUTH AFRICA\n",
       "23            TOTAL\n",
       "24        INDONESIA\n",
       "25         MALAYSIA\n",
       "26    PHILIP\\nPINES\n",
       "27       THAI\\nLAND\n",
       "28        VIET\\nNAM\n",
       "29            CHINA\n",
       "30           TAIWAN\n",
       "31       HONG\\nKONG\n",
       "32            JAPAN\n",
       "33     SOUTH\\nKOREA\n",
       "34            INDIA\n",
       "35           FRANCE\n",
       "36          GERMANY\n",
       "37            ITALY\n",
       "38    NETHER\\nLANDS\n",
       "39    SWITZER\\nLAND\n",
       "40               UK\n",
       "41           CANADA\n",
       "42              USA\n",
       "43        AUSTRALIA\n",
       "44     NEW\\nZEALAND\n",
       "45    SOUTH\\nAFRICA\n",
       "Name: cor, dtype: object"
      ]
     },
     "execution_count": 14,
     "metadata": {},
     "output_type": "execute_result"
    }
   ],
   "source": [
    "data.cor\n"
   ]
  },
  {
   "cell_type": "code",
   "execution_count": 15,
   "id": "af74afe2",
   "metadata": {},
   "outputs": [
    {
     "data": {
      "text/plain": [
       "0              TOTAL\n",
       "1     SOUTHEAST ASIA\n",
       "2     SOUTHEAST ASIA\n",
       "3     SOUTHEAST ASIA\n",
       "4     SOUTHEAST ASIA\n",
       "5     SOUTHEAST ASIA\n",
       "6         NORTH ASIA\n",
       "7         NORTH ASIA\n",
       "8         NORTH ASIA\n",
       "9         NORTH ASIA\n",
       "10        NORTH ASIA\n",
       "11        SOUTH ASIA\n",
       "12            EUROPE\n",
       "13            EUROPE\n",
       "14            EUROPE\n",
       "15            EUROPE\n",
       "16            EUROPE\n",
       "17            EUROPE\n",
       "18          AMERICAS\n",
       "19          AMERICAS\n",
       "20           OCEANIA\n",
       "21           OCEANIA\n",
       "22            AFRICA\n",
       "23             TOTAL\n",
       "24    SOUTHEAST ASIA\n",
       "25    SOUTHEAST ASIA\n",
       "26    SOUTHEAST ASIA\n",
       "27    SOUTHEAST ASIA\n",
       "28    SOUTHEAST ASIA\n",
       "29        NORTH ASIA\n",
       "30        NORTH ASIA\n",
       "31        NORTH ASIA\n",
       "32        NORTH ASIA\n",
       "33        NORTH ASIA\n",
       "34        SOUTH ASIA\n",
       "35            EUROPE\n",
       "36            EUROPE\n",
       "37            EUROPE\n",
       "38            EUROPE\n",
       "39            EUROPE\n",
       "40            EUROPE\n",
       "41          AMERICAS\n",
       "42          AMERICAS\n",
       "43           OCEANIA\n",
       "44           OCEANIA\n",
       "45            AFRICA\n",
       "Name: region, dtype: object"
      ]
     },
     "execution_count": 15,
     "metadata": {},
     "output_type": "execute_result"
    }
   ],
   "source": [
    "data.region"
   ]
  },
  {
   "cell_type": "code",
   "execution_count": 16,
   "id": "49268e12",
   "metadata": {},
   "outputs": [
    {
     "data": {
      "text/plain": [
       "0     18\n",
       "1     20\n",
       "2     15\n",
       "3     18\n",
       "4     12\n",
       "5     17\n",
       "6     11\n",
       "7     19\n",
       "8     17\n",
       "9     13\n",
       "10    40\n",
       "11    16\n",
       "12    17\n",
       "13    17\n",
       "14    23\n",
       "15    27\n",
       "16    26\n",
       "17    11\n",
       "18    20\n",
       "19    11\n",
       "20    17\n",
       "21    21\n",
       "22    26\n",
       "23    18\n",
       "24    21\n",
       "25    16\n",
       "26    18\n",
       "27    13\n",
       "28    16\n",
       "29    14\n",
       "30    15\n",
       "31    18\n",
       "32    12\n",
       "33    26\n",
       "34    18\n",
       "35    21\n",
       "36    17\n",
       "37    28\n",
       "38    29\n",
       "39    28\n",
       "40    13\n",
       "41    24\n",
       "42    11\n",
       "43    14\n",
       "44    19\n",
       "45    38\n",
       "Name: others, dtype: int64"
      ]
     },
     "execution_count": 16,
     "metadata": {},
     "output_type": "execute_result"
    }
   ],
   "source": [
    "data.others"
   ]
  },
  {
   "cell_type": "code",
   "execution_count": 33,
   "id": "683f25ad",
   "metadata": {},
   "outputs": [
    {
     "data": {
      "text/plain": [
       "0     18\n",
       "1     20\n",
       "2     15\n",
       "3     18\n",
       "4     12\n",
       "5     17\n",
       "6     11\n",
       "7     19\n",
       "8     17\n",
       "9     13\n",
       "10    40\n",
       "11    16\n",
       "12    17\n",
       "13    17\n",
       "14    23\n",
       "15    27\n",
       "16    26\n",
       "17    11\n",
       "18    20\n",
       "19    11\n",
       "20    17\n",
       "21    21\n",
       "22    26\n",
       "23    18\n",
       "24    21\n",
       "25    16\n",
       "26    18\n",
       "27    13\n",
       "28    16\n",
       "29    14\n",
       "30    15\n",
       "31    18\n",
       "32    12\n",
       "33    26\n",
       "34    18\n",
       "35    21\n",
       "36    17\n",
       "37    28\n",
       "38    29\n",
       "39    28\n",
       "40    13\n",
       "41    24\n",
       "42    11\n",
       "43    14\n",
       "44    19\n",
       "45    38\n",
       "Name: others, dtype: int64"
      ]
     },
     "execution_count": 33,
     "metadata": {},
     "output_type": "execute_result"
    }
   ],
   "source": [
    "data.others"
   ]
  },
  {
   "cell_type": "code",
   "execution_count": 24,
   "id": "88a460a8",
   "metadata": {},
   "outputs": [],
   "source": [
    "Usa =data[data.cor==\"USA\"]"
   ]
  },
  {
   "cell_type": "code",
   "execution_count": 26,
   "id": "63789b46",
   "metadata": {},
   "outputs": [
    {
     "data": {
      "text/html": [
       "<div>\n",
       "<style scoped>\n",
       "    .dataframe tbody tr th:only-of-type {\n",
       "        vertical-align: middle;\n",
       "    }\n",
       "\n",
       "    .dataframe tbody tr th {\n",
       "        vertical-align: top;\n",
       "    }\n",
       "\n",
       "    .dataframe thead th {\n",
       "        text-align: right;\n",
       "    }\n",
       "</style>\n",
       "<table border=\"1\" class=\"dataframe\">\n",
       "  <thead>\n",
       "    <tr style=\"text-align: right;\">\n",
       "      <th></th>\n",
       "      <th>period</th>\n",
       "      <th>region</th>\n",
       "      <th>cor</th>\n",
       "      <th>hotel</th>\n",
       "      <th>friends_relatives</th>\n",
       "      <th>others</th>\n",
       "    </tr>\n",
       "  </thead>\n",
       "  <tbody>\n",
       "    <tr>\n",
       "      <th>19</th>\n",
       "      <td>2013</td>\n",
       "      <td>AMERICAS</td>\n",
       "      <td>USA</td>\n",
       "      <td>75</td>\n",
       "      <td>14</td>\n",
       "      <td>11</td>\n",
       "    </tr>\n",
       "    <tr>\n",
       "      <th>42</th>\n",
       "      <td>2014</td>\n",
       "      <td>AMERICAS</td>\n",
       "      <td>USA</td>\n",
       "      <td>73</td>\n",
       "      <td>16</td>\n",
       "      <td>11</td>\n",
       "    </tr>\n",
       "  </tbody>\n",
       "</table>\n",
       "</div>"
      ],
      "text/plain": [
       "    period    region  cor  hotel  friends_relatives  others\n",
       "19    2013  AMERICAS  USA     75                 14      11\n",
       "42    2014  AMERICAS  USA     73                 16      11"
      ]
     },
     "execution_count": 26,
     "metadata": {},
     "output_type": "execute_result"
    }
   ],
   "source": [
    "Usa"
   ]
  },
  {
   "cell_type": "code",
   "execution_count": 31,
   "id": "6993f1e8",
   "metadata": {},
   "outputs": [],
   "source": [
    "europe=data[data.region==\"EUROPE\"]"
   ]
  },
  {
   "cell_type": "code",
   "execution_count": 32,
   "id": "4cfd22d9",
   "metadata": {},
   "outputs": [
    {
     "data": {
      "text/html": [
       "<div>\n",
       "<style scoped>\n",
       "    .dataframe tbody tr th:only-of-type {\n",
       "        vertical-align: middle;\n",
       "    }\n",
       "\n",
       "    .dataframe tbody tr th {\n",
       "        vertical-align: top;\n",
       "    }\n",
       "\n",
       "    .dataframe thead th {\n",
       "        text-align: right;\n",
       "    }\n",
       "</style>\n",
       "<table border=\"1\" class=\"dataframe\">\n",
       "  <thead>\n",
       "    <tr style=\"text-align: right;\">\n",
       "      <th></th>\n",
       "      <th>period</th>\n",
       "      <th>region</th>\n",
       "      <th>cor</th>\n",
       "      <th>hotel</th>\n",
       "      <th>friends_relatives</th>\n",
       "      <th>others</th>\n",
       "    </tr>\n",
       "  </thead>\n",
       "  <tbody>\n",
       "    <tr>\n",
       "      <th>12</th>\n",
       "      <td>2013</td>\n",
       "      <td>EUROPE</td>\n",
       "      <td>FRANCE</td>\n",
       "      <td>63</td>\n",
       "      <td>20</td>\n",
       "      <td>17</td>\n",
       "    </tr>\n",
       "    <tr>\n",
       "      <th>13</th>\n",
       "      <td>2013</td>\n",
       "      <td>EUROPE</td>\n",
       "      <td>GERMANY</td>\n",
       "      <td>74</td>\n",
       "      <td>9</td>\n",
       "      <td>17</td>\n",
       "    </tr>\n",
       "    <tr>\n",
       "      <th>14</th>\n",
       "      <td>2013</td>\n",
       "      <td>EUROPE</td>\n",
       "      <td>ITALY</td>\n",
       "      <td>71</td>\n",
       "      <td>6</td>\n",
       "      <td>23</td>\n",
       "    </tr>\n",
       "    <tr>\n",
       "      <th>15</th>\n",
       "      <td>2013</td>\n",
       "      <td>EUROPE</td>\n",
       "      <td>NETHERLANDS</td>\n",
       "      <td>67</td>\n",
       "      <td>5</td>\n",
       "      <td>27</td>\n",
       "    </tr>\n",
       "    <tr>\n",
       "      <th>16</th>\n",
       "      <td>2013</td>\n",
       "      <td>EUROPE</td>\n",
       "      <td>SWITZERLAND</td>\n",
       "      <td>63</td>\n",
       "      <td>11</td>\n",
       "      <td>26</td>\n",
       "    </tr>\n",
       "    <tr>\n",
       "      <th>17</th>\n",
       "      <td>2013</td>\n",
       "      <td>EUROPE</td>\n",
       "      <td>UK</td>\n",
       "      <td>71</td>\n",
       "      <td>17</td>\n",
       "      <td>11</td>\n",
       "    </tr>\n",
       "    <tr>\n",
       "      <th>35</th>\n",
       "      <td>2014</td>\n",
       "      <td>EUROPE</td>\n",
       "      <td>FRANCE</td>\n",
       "      <td>61</td>\n",
       "      <td>17</td>\n",
       "      <td>21</td>\n",
       "    </tr>\n",
       "    <tr>\n",
       "      <th>36</th>\n",
       "      <td>2014</td>\n",
       "      <td>EUROPE</td>\n",
       "      <td>GERMANY</td>\n",
       "      <td>75</td>\n",
       "      <td>8</td>\n",
       "      <td>17</td>\n",
       "    </tr>\n",
       "    <tr>\n",
       "      <th>37</th>\n",
       "      <td>2014</td>\n",
       "      <td>EUROPE</td>\n",
       "      <td>ITALY</td>\n",
       "      <td>66</td>\n",
       "      <td>6</td>\n",
       "      <td>28</td>\n",
       "    </tr>\n",
       "    <tr>\n",
       "      <th>38</th>\n",
       "      <td>2014</td>\n",
       "      <td>EUROPE</td>\n",
       "      <td>NETHER\\nLANDS</td>\n",
       "      <td>54</td>\n",
       "      <td>17</td>\n",
       "      <td>29</td>\n",
       "    </tr>\n",
       "    <tr>\n",
       "      <th>39</th>\n",
       "      <td>2014</td>\n",
       "      <td>EUROPE</td>\n",
       "      <td>SWITZER\\nLAND</td>\n",
       "      <td>56</td>\n",
       "      <td>16</td>\n",
       "      <td>28</td>\n",
       "    </tr>\n",
       "    <tr>\n",
       "      <th>40</th>\n",
       "      <td>2014</td>\n",
       "      <td>EUROPE</td>\n",
       "      <td>UK</td>\n",
       "      <td>68</td>\n",
       "      <td>19</td>\n",
       "      <td>13</td>\n",
       "    </tr>\n",
       "  </tbody>\n",
       "</table>\n",
       "</div>"
      ],
      "text/plain": [
       "    period  region            cor  hotel  friends_relatives  others\n",
       "12    2013  EUROPE         FRANCE     63                 20      17\n",
       "13    2013  EUROPE        GERMANY     74                  9      17\n",
       "14    2013  EUROPE          ITALY     71                  6      23\n",
       "15    2013  EUROPE    NETHERLANDS     67                  5      27\n",
       "16    2013  EUROPE    SWITZERLAND     63                 11      26\n",
       "17    2013  EUROPE             UK     71                 17      11\n",
       "35    2014  EUROPE         FRANCE     61                 17      21\n",
       "36    2014  EUROPE        GERMANY     75                  8      17\n",
       "37    2014  EUROPE          ITALY     66                  6      28\n",
       "38    2014  EUROPE  NETHER\\nLANDS     54                 17      29\n",
       "39    2014  EUROPE  SWITZER\\nLAND     56                 16      28\n",
       "40    2014  EUROPE             UK     68                 19      13"
      ]
     },
     "execution_count": 32,
     "metadata": {},
     "output_type": "execute_result"
    }
   ],
   "source": [
    "europe"
   ]
  },
  {
   "cell_type": "code",
   "execution_count": 49,
   "id": "55915678",
   "metadata": {},
   "outputs": [
    {
     "data": {
      "image/png": "[encoded data removed]",
      "text/plain": [
       "<Figure size 432x288 with 1 Axes>"
      ]
     },
     "metadata": {
      "needs_background": "light"
     },
     "output_type": "display_data"
    }
   ],
   "source": [
    "plt.plot(europe.hotel,europe.others /10**2)\n",
    "plt.legend([' growing number of hotels during the year'])\n",
    "plt.xlabel(\"hotels\")\n",
    "plt.show()"
   ]
  },
  {
   "cell_type": "code",
   "execution_count": 42,
   "id": "68465d7f",
   "metadata": {},
   "outputs": [
    {
     "data": {
      "text/plain": [
       "12    63\n",
       "13    74\n",
       "14    71\n",
       "15    67\n",
       "16    63\n",
       "17    71\n",
       "35    61\n",
       "36    75\n",
       "37    66\n",
       "38    54\n",
       "39    56\n",
       "40    68\n",
       "Name: hotel, dtype: int64"
      ]
     },
     "execution_count": 42,
     "metadata": {},
     "output_type": "execute_result"
    }
   ],
   "source": [
    "europe.hotel"
   ]
  },
  {
   "cell_type": "code",
   "execution_count": 47,
   "id": "8a4fd003",
   "metadata": {},
   "outputs": [
    {
     "data": {
      "text/plain": [
       "12    100.000000\n",
       "13    117.460317\n",
       "14    112.698413\n",
       "15    106.349206\n",
       "16    100.000000\n",
       "17    112.698413\n",
       "35     96.825397\n",
       "36    119.047619\n",
       "37    104.761905\n",
       "38     85.714286\n",
       "39     88.888889\n",
       "40    107.936508\n",
       "Name: hotel, dtype: float64"
      ]
     },
     "execution_count": 47,
     "metadata": {},
     "output_type": "execute_result"
    }
   ],
   "source": [
    "europe.hotel/europe.hotel.iloc[0]*100"
   ]
  },
  {
   "cell_type": "code",
   "execution_count": null,
   "id": "b8d4005f",
   "metadata": {},
   "outputs": [],
   "source": []
  }
 ],
 "metadata": {
  "kernelspec": {
   "display_name": "Python 3",
   "language": "python",
   "name": "python3"
  },
  "language_info": {
   "codemirror_mode": {
    "name": "ipython",
    "version": 3
   },
   "file_extension": ".py",
   "mimetype": "text/x-python",
   "name": "python",
   "nbconvert_exporter": "python",
   "pygments_lexer": "ipython3",
   "version": "3.8.8"
  }
 },
 "nbformat": 4,
 "nbformat_minor": 5
}
